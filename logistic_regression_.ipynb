{
  "nbformat": 4,
  "nbformat_minor": 0,
  "metadata": {
    "colab": {
      "provenance": [],
      "authorship_tag": "ABX9TyOlgxaXHv2K22saSB0dDkK/",
      "include_colab_link": true
    },
    "kernelspec": {
      "name": "python3",
      "display_name": "Python 3"
    },
    "language_info": {
      "name": "python"
    }
  },
  "cells": [
    {
      "cell_type": "markdown",
      "metadata": {
        "id": "view-in-github",
        "colab_type": "text"
      },
      "source": [
        "<a href=\"https://colab.research.google.com/github/IqraMuzaffar/Ml_labs/blob/main/logistic_regression_.ipynb\" target=\"_parent\"><img src=\"https://colab.research.google.com/assets/colab-badge.svg\" alt=\"Open In Colab\"/></a>"
      ]
    },
    {
      "cell_type": "markdown",
      "source": [
        "#**` Ml_lab(Logistic Regression)`**\n",
        " week5"
      ],
      "metadata": {
        "id": "y8xkWnOvuql2"
      }
    },
    {
      "cell_type": "markdown",
      "source": [
        "**Importing libraries**"
      ],
      "metadata": {
        "id": "pS4TxFRXu81i"
      }
    },
    {
      "cell_type": "code",
      "execution_count": null,
      "metadata": {
        "colab": {
          "base_uri": "https://localhost:8080/"
        },
        "id": "Iwaz76F_t_WO",
        "outputId": "578130b4-72e0-4d1d-f92b-5a99957f682b"
      },
      "outputs": [
        {
          "output_type": "stream",
          "name": "stdout",
          "text": [
            "Requirement already satisfied: numpy in /usr/local/lib/python3.10/dist-packages (1.23.5)\n"
          ]
        }
      ],
      "source": [
        "!pip install numpy"
      ]
    },
    {
      "cell_type": "code",
      "source": [
        "!pip install scikit-learn"
      ],
      "metadata": {
        "colab": {
          "base_uri": "https://localhost:8080/"
        },
        "id": "sBIkDvAjuVqE",
        "outputId": "5234dbda-574e-4e0b-8208-f935314d2cbd"
      },
      "execution_count": null,
      "outputs": [
        {
          "output_type": "stream",
          "name": "stdout",
          "text": [
            "Requirement already satisfied: scikit-learn in /usr/local/lib/python3.10/dist-packages (1.2.2)\n",
            "Requirement already satisfied: numpy>=1.17.3 in /usr/local/lib/python3.10/dist-packages (from scikit-learn) (1.23.5)\n",
            "Requirement already satisfied: scipy>=1.3.2 in /usr/local/lib/python3.10/dist-packages (from scikit-learn) (1.11.3)\n",
            "Requirement already satisfied: joblib>=1.1.1 in /usr/local/lib/python3.10/dist-packages (from scikit-learn) (1.3.2)\n",
            "Requirement already satisfied: threadpoolctl>=2.0.0 in /usr/local/lib/python3.10/dist-packages (from scikit-learn) (3.2.0)\n"
          ]
        }
      ]
    },
    {
      "cell_type": "code",
      "source": [
        "import numpy as np\n",
        "from sklearn.linear_model import Perceptron, LogisticRegression\n",
        "from sklearn import preprocessing"
      ],
      "metadata": {
        "id": "xsYjDBnkuY-4"
      },
      "execution_count": 2,
      "outputs": []
    },
    {
      "cell_type": "markdown",
      "source": [
        "**Creating our dataset**"
      ],
      "metadata": {
        "id": "CxTVAivUvGsX"
      }
    },
    {
      "cell_type": "markdown",
      "source": [
        "columns =>   income, age, owner of house, credit rating , decision"
      ],
      "metadata": {
        "id": "8OO0TP0Ivenx"
      }
    },
    {
      "cell_type": "code",
      "source": [
        "dataset=np.array([['Low','Young','FALSE','FALSE','Fair','No'],\n",
        "                    ['Mid','Young','FALSE','FALSE','Good','No'],\n",
        "                    ['High','Young','TRUE','FALSE','Good','Yes'],\n",
        "                    ['Mid','Young','TRUE','TRUE','Fair','Yes'],\n",
        "                    ['Mid','Young','FALSE','FALSE','Fair','No'],\n",
        "                    ['Low','Middle','FALSE','FALSE','Fair','No'],\n",
        "                    ['Low','Middle','FALSE','FALSE','Good','No'],\n",
        "                    ['Mid','Middle','TRUE','TRUE','Good','Yes'],\n",
        "                    ['Mid','Middle','FALSE','TRUE','Excellent','Yes'],\n",
        "                    ['Mid','Middle','FALSE','TRUE','Excellent','Yes'],\n",
        "                    ['High','Old','FALSE','TRUE','Excellent','Yes'],\n",
        "                    ['High','Old','FALSE','TRUE','Good','Yes'],\n",
        "                    ['High','Old','TRUE','FALSE','Good','Yes'],\n",
        "                    ['Mid','Old','TRUE','FALSE','Excellent','Yes'],\n",
        "                    ['Low','Old','FALSE','FALSE','Fair','No']])"
      ],
      "metadata": {
        "id": "dmNwl89ju696"
      },
      "execution_count": 3,
      "outputs": []
    },
    {
      "cell_type": "markdown",
      "source": [
        "**Feature Extraction**"
      ],
      "metadata": {
        "id": "1OGEltU8xB6P"
      }
    },
    {
      "cell_type": "code",
      "source": [
        "features=dataset[:,0:-1]\n",
        "\n",
        "print(features)\n",
        "target=dataset[:,-1]\n",
        "print(target)"
      ],
      "metadata": {
        "colab": {
          "base_uri": "https://localhost:8080/"
        },
        "id": "2tYF2YSDwR7h",
        "outputId": "ea467a63-bc4e-4ed2-9478-04e261211f85"
      },
      "execution_count": 4,
      "outputs": [
        {
          "output_type": "stream",
          "name": "stdout",
          "text": [
            "[['Low' 'Young' 'FALSE' 'FALSE' 'Fair']\n",
            " ['Mid' 'Young' 'FALSE' 'FALSE' 'Good']\n",
            " ['High' 'Young' 'TRUE' 'FALSE' 'Good']\n",
            " ['Mid' 'Young' 'TRUE' 'TRUE' 'Fair']\n",
            " ['Mid' 'Young' 'FALSE' 'FALSE' 'Fair']\n",
            " ['Low' 'Middle' 'FALSE' 'FALSE' 'Fair']\n",
            " ['Low' 'Middle' 'FALSE' 'FALSE' 'Good']\n",
            " ['Mid' 'Middle' 'TRUE' 'TRUE' 'Good']\n",
            " ['Mid' 'Middle' 'FALSE' 'TRUE' 'Excellent']\n",
            " ['Mid' 'Middle' 'FALSE' 'TRUE' 'Excellent']\n",
            " ['High' 'Old' 'FALSE' 'TRUE' 'Excellent']\n",
            " ['High' 'Old' 'FALSE' 'TRUE' 'Good']\n",
            " ['High' 'Old' 'TRUE' 'FALSE' 'Good']\n",
            " ['Mid' 'Old' 'TRUE' 'FALSE' 'Excellent']\n",
            " ['Low' 'Old' 'FALSE' 'FALSE' 'Fair']]\n",
            "['No' 'No' 'Yes' 'Yes' 'No' 'No' 'No' 'Yes' 'Yes' 'Yes' 'Yes' 'Yes' 'Yes'\n",
            " 'Yes' 'No']\n"
          ]
        }
      ]
    },
    {
      "cell_type": "markdown",
      "source": [
        "**Preprocessing**"
      ],
      "metadata": {
        "id": "pXdm-UEVxrJL"
      }
    },
    {
      "cell_type": "markdown",
      "source": [
        "`preprocessing.OrdinalEncoder()`=> converts categorial data into nominal or numerical data"
      ],
      "metadata": {
        "id": "EgvJYtTsyDZY"
      }
    },
    {
      "cell_type": "code",
      "source": [
        "enc=preprocessing.OrdinalEncoder()\n",
        "enc.fit(features)\n",
        "features=enc.transform(features)\n",
        "print(features)\n"
      ],
      "metadata": {
        "colab": {
          "base_uri": "https://localhost:8080/"
        },
        "id": "dU_2WZw7xqEx",
        "outputId": "18b33bf4-244e-4cf4-e965-ffa255a8a01f"
      },
      "execution_count": 5,
      "outputs": [
        {
          "output_type": "stream",
          "name": "stdout",
          "text": [
            "[[1. 2. 0. 0. 1.]\n",
            " [2. 2. 0. 0. 2.]\n",
            " [0. 2. 1. 0. 2.]\n",
            " [2. 2. 1. 1. 1.]\n",
            " [2. 2. 0. 0. 1.]\n",
            " [1. 0. 0. 0. 1.]\n",
            " [1. 0. 0. 0. 2.]\n",
            " [2. 0. 1. 1. 2.]\n",
            " [2. 0. 0. 1. 0.]\n",
            " [2. 0. 0. 1. 0.]\n",
            " [0. 1. 0. 1. 0.]\n",
            " [0. 1. 0. 1. 2.]\n",
            " [0. 1. 1. 0. 2.]\n",
            " [2. 1. 1. 0. 0.]\n",
            " [1. 1. 0. 0. 1.]]\n"
          ]
        }
      ]
    },
    {
      "cell_type": "markdown",
      "source": [
        "**Model**"
      ],
      "metadata": {
        "id": "4XwzfgpqzDt_"
      }
    },
    {
      "cell_type": "code",
      "source": [
        "model = LogisticRegression()\n",
        "trained=model.fit(features,target)\n"
      ],
      "metadata": {
        "id": "szun8qK3yuUo"
      },
      "execution_count": 6,
      "outputs": []
    },
    {
      "cell_type": "markdown",
      "source": [
        "**Testing**"
      ],
      "metadata": {
        "id": "eKdmdjhN0vdE"
      }
    },
    {
      "cell_type": "code",
      "source": [
        "#scenario 1\n",
        "question=np.array([['High','Old','FALSE','FALSE',\"Good\"]]) #enc.trabsform -> numerical\n",
        "prediction=trained.predict(enc.transform(question))\n",
        "print(prediction)\n",
        "print('2020-CE-45')"
      ],
      "metadata": {
        "colab": {
          "base_uri": "https://localhost:8080/"
        },
        "id": "e3aUMtQ00uYT",
        "outputId": "a262c6ae-7665-48a3-9cae-fd343b5cd025"
      },
      "execution_count": 8,
      "outputs": [
        {
          "output_type": "stream",
          "name": "stdout",
          "text": [
            "['No']\n",
            "2020-CE-45\n"
          ]
        }
      ]
    },
    {
      "cell_type": "code",
      "source": [
        "#scenario 2\n",
        "\n",
        "question=np.array([['High','Old','TRUE','TRUE',\"Fair\"]]) #enc.trabsform -> numerical\n",
        "prediction=trained.predict(enc.transform(question))\n",
        "print(prediction)\n",
        "print('2020-CE-45')"
      ],
      "metadata": {
        "colab": {
          "base_uri": "https://localhost:8080/"
        },
        "id": "rZGvqQys3oNC",
        "outputId": "73064423-64f0-4d69-f027-3bb2bb1b79ac"
      },
      "execution_count": 7,
      "outputs": [
        {
          "output_type": "stream",
          "name": "stdout",
          "text": [
            "['Yes']\n",
            "2020-CE-45\n"
          ]
        }
      ]
    },
    {
      "cell_type": "code",
      "source": [
        "#scenario 3\n",
        "\n",
        "question=np.array([['Low','Middle','FALSE','FALSE',\"Good\"]]) #enc.trabsform -> numerical\n",
        "prediction=trained.predict(enc.transform(question))\n",
        "print(prediction)\n",
        "print('2020-CE-45')"
      ],
      "metadata": {
        "colab": {
          "base_uri": "https://localhost:8080/"
        },
        "id": "l-txvTt83oZv",
        "outputId": "d6103a49-f797-40d8-8bbb-7c5856ea75fd"
      },
      "execution_count": 9,
      "outputs": [
        {
          "output_type": "stream",
          "name": "stdout",
          "text": [
            "['No']\n",
            "2020-CE-45\n"
          ]
        }
      ]
    }
  ]
}