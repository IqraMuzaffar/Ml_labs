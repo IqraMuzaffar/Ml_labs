{
  "nbformat": 4,
  "nbformat_minor": 0,
  "metadata": {
    "colab": {
      "provenance": [],
      "authorship_tag": "ABX9TyMimRFtuzAS+m0c9zdqWM7K",
      "include_colab_link": true
    },
    "kernelspec": {
      "name": "python3",
      "display_name": "Python 3"
    },
    "language_info": {
      "name": "python"
    }
  },
  "cells": [
    {
      "cell_type": "markdown",
      "metadata": {
        "id": "view-in-github",
        "colab_type": "text"
      },
      "source": [
        "<a href=\"https://colab.research.google.com/github/IqraMuzaffar/Ml_labs/blob/main/Ml_hw2_q3_2.ipynb\" target=\"_parent\"><img src=\"https://colab.research.google.com/assets/colab-badge.svg\" alt=\"Open In Colab\"/></a>"
      ]
    },
    {
      "cell_type": "code",
      "execution_count": null,
      "metadata": {
        "colab": {
          "base_uri": "https://localhost:8080/"
        },
        "id": "cN4U9mE9pF8m",
        "outputId": "f65e0432-75d0-4111-a554-7d7409bfc065"
      },
      "outputs": [
        {
          "output_type": "stream",
          "name": "stdout",
          "text": [
            "Coefficients:\n",
            "w0 (intercept): 2.280895065196921\n",
            "w1 (miles traveled): 0.0\n",
            "w2 (num of deliveries): 0.04044120830878443\n",
            "w3 (interaction term): 0.9861534866166998\n",
            "Predicted travel time for 100 miles and 10 deliveries: 988.8387937649845\n",
            "For every 1 mile increase in distance, travel time increases by approximately 0.0 units.\n",
            "For every 1 more delivery, travel time increases by approximately 0.04044120830878443 units.\n"
          ]
        }
      ],
      "source": [
        "import numpy as np\n",
        "from sklearn.linear_model import LinearRegression\n",
        "\n",
        "# Given data\n",
        "miles_traveled = np.array([89, 66, 78, 111, 44, 77, 80, 66, 109, 76])\n",
        "num_deliveries = np.array([4, 1, 3, 6, 1, 3, 3, 2, 5, 3])\n",
        "travel_time = np.array([7, 5.4, 6.6, 7.4, 4.8, 6.4, 7, 5.6, 7.3, 6.4])\n",
        "\n",
        "# Create a matrix of feature variables\n",
        "X = np.column_stack((np.ones_like(miles_traveled), miles_traveled, num_deliveries, miles_traveled * num_deliveries))\n",
        "\n",
        "# Fit a multiple linear regression model\n",
        "model = LinearRegression()\n",
        "model.fit(X, travel_time)\n",
        "\n",
        "# Get the coefficients\n",
        "w0 = model.intercept_\n",
        "w1, w2, w3, w4 = model.coef_\n",
        "\n",
        "print(\"Coefficients:\")\n",
        "print(f\"w0 (intercept): {w0}\")\n",
        "print(f\"w1 (miles traveled): {w1}\")\n",
        "print(f\"w2 (num of deliveries): {w2}\")\n",
        "print(f\"w3 (interaction term): {w3}\")\n",
        "\n",
        "# Predict travel time for 100 miles and 10 deliveries\n",
        "mileage = 100\n",
        "deliveries = 10\n",
        "predicted_time = w0 + w1 * mileage + w2 * deliveries + w3 * (mileage * deliveries)\n",
        "print(f\"Predicted travel time for 100 miles and 10 deliveries: {predicted_time}\")\n",
        "\n",
        "# Describe the effect of 1-mile increase and 1 more delivery\n",
        "time_increase_per_mile = w1\n",
        "time_increase_per_delivery = w2\n",
        "print(f\"For every 1 mile increase in distance, travel time increases by approximately {time_increase_per_mile} units.\")\n",
        "print(f\"For every 1 more delivery, travel time increases by approximately {time_increase_per_delivery} units.\")\n"
      ]
    }
  ]
}