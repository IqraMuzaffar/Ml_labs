{
  "nbformat": 4,
  "nbformat_minor": 0,
  "metadata": {
    "colab": {
      "provenance": [],
      "authorship_tag": "ABX9TyMjgDXaxfw+/xfSmoorKdxB",
      "include_colab_link": true
    },
    "kernelspec": {
      "name": "python3",
      "display_name": "Python 3"
    },
    "language_info": {
      "name": "python"
    }
  },
  "cells": [
    {
      "cell_type": "markdown",
      "metadata": {
        "id": "view-in-github",
        "colab_type": "text"
      },
      "source": [
        "<a href=\"https://colab.research.google.com/github/IqraMuzaffar/Ml_labs/blob/main/linear_regression_.ipynb\" target=\"_parent\"><img src=\"https://colab.research.google.com/assets/colab-badge.svg\" alt=\"Open In Colab\"/></a>"
      ]
    },
    {
      "cell_type": "markdown",
      "source": [
        "**Importing libraries**"
      ],
      "metadata": {
        "id": "pS4TxFRXu81i"
      }
    },
    {
      "cell_type": "code",
      "execution_count": 1,
      "metadata": {
        "colab": {
          "base_uri": "https://localhost:8080/"
        },
        "id": "Iwaz76F_t_WO",
        "outputId": "89d809b9-1e18-4b10-fe10-6cce257982cd"
      },
      "outputs": [
        {
          "output_type": "stream",
          "name": "stdout",
          "text": [
            "Requirement already satisfied: numpy in /usr/local/lib/python3.10/dist-packages (1.23.5)\n"
          ]
        }
      ],
      "source": [
        "!pip install numpy"
      ]
    },
    {
      "cell_type": "code",
      "source": [
        "!pip install scikit-learn"
      ],
      "metadata": {
        "colab": {
          "base_uri": "https://localhost:8080/"
        },
        "id": "sBIkDvAjuVqE",
        "outputId": "5234dbda-574e-4e0b-8208-f935314d2cbd"
      },
      "execution_count": null,
      "outputs": [
        {
          "output_type": "stream",
          "name": "stdout",
          "text": [
            "Requirement already satisfied: scikit-learn in /usr/local/lib/python3.10/dist-packages (1.2.2)\n",
            "Requirement already satisfied: numpy>=1.17.3 in /usr/local/lib/python3.10/dist-packages (from scikit-learn) (1.23.5)\n",
            "Requirement already satisfied: scipy>=1.3.2 in /usr/local/lib/python3.10/dist-packages (from scikit-learn) (1.11.3)\n",
            "Requirement already satisfied: joblib>=1.1.1 in /usr/local/lib/python3.10/dist-packages (from scikit-learn) (1.3.2)\n",
            "Requirement already satisfied: threadpoolctl>=2.0.0 in /usr/local/lib/python3.10/dist-packages (from scikit-learn) (3.2.0)\n"
          ]
        }
      ]
    },
    {
      "cell_type": "code",
      "source": [
        "import numpy as np\n",
        "from sklearn.linear_model import LinearRegression\n",
        "from sklearn import preprocessing"
      ],
      "metadata": {
        "id": "xsYjDBnkuY-4"
      },
      "execution_count": 3,
      "outputs": []
    },
    {
      "cell_type": "markdown",
      "source": [
        "**Creating our dataset**"
      ],
      "metadata": {
        "id": "CxTVAivUvGsX"
      }
    },
    {
      "cell_type": "markdown",
      "source": [
        "columns =>   income, age, owner of house, credit rating , decision"
      ],
      "metadata": {
        "id": "8OO0TP0Ivenx"
      }
    },
    {
      "cell_type": "code",
      "source": [
        "dataset=np.array([['Low','Young','FALSE','FALSE','Fair',0],\n",
        "                    ['Mid','Young','FALSE','FALSE','Good',0],\n",
        "                    ['High','Young','TRUE','FALSE','Good',1],\n",
        "                    ['Mid','Young','TRUE','TRUE','Fair',1],\n",
        "                    ['Mid','Young','FALSE','FALSE','Fair',0],\n",
        "                    ['Low','Middle','FALSE','FALSE','Fair',0],\n",
        "                    ['Low','Middle','FALSE','FALSE','Good',0],\n",
        "                    ['Mid','Middle','TRUE','TRUE','Good',1],\n",
        "                    ['Mid','Middle','FALSE','TRUE','Excellent',1],\n",
        "                    ['Mid','Middle','FALSE','TRUE','Excellent',1],\n",
        "                    ['High','Old','FALSE','TRUE','Excellent',1],\n",
        "                    ['High','Old','FALSE','TRUE','Good',1],\n",
        "                    ['High','Old','TRUE','FALSE','Good',1],\n",
        "                    ['Mid','Old','TRUE','FALSE','Excellent',1],\n",
        "                    ['Low','Old','FALSE','FALSE','Fair',0]])"
      ],
      "metadata": {
        "id": "dmNwl89ju696"
      },
      "execution_count": 4,
      "outputs": []
    },
    {
      "cell_type": "markdown",
      "source": [
        "**Feature Extraction**"
      ],
      "metadata": {
        "id": "1OGEltU8xB6P"
      }
    },
    {
      "cell_type": "code",
      "source": [
        "features=dataset[:,0:-1]\n",
        "\n",
        "print(features)\n",
        "target=dataset[:,-1]\n",
        "print(target)"
      ],
      "metadata": {
        "colab": {
          "base_uri": "https://localhost:8080/"
        },
        "id": "2tYF2YSDwR7h",
        "outputId": "c967d655-c262-4f44-8a80-a67ccd9d93be"
      },
      "execution_count": 5,
      "outputs": [
        {
          "output_type": "stream",
          "name": "stdout",
          "text": [
            "[['Low' 'Young' 'FALSE' 'FALSE' 'Fair']\n",
            " ['Mid' 'Young' 'FALSE' 'FALSE' 'Good']\n",
            " ['High' 'Young' 'TRUE' 'FALSE' 'Good']\n",
            " ['Mid' 'Young' 'TRUE' 'TRUE' 'Fair']\n",
            " ['Mid' 'Young' 'FALSE' 'FALSE' 'Fair']\n",
            " ['Low' 'Middle' 'FALSE' 'FALSE' 'Fair']\n",
            " ['Low' 'Middle' 'FALSE' 'FALSE' 'Good']\n",
            " ['Mid' 'Middle' 'TRUE' 'TRUE' 'Good']\n",
            " ['Mid' 'Middle' 'FALSE' 'TRUE' 'Excellent']\n",
            " ['Mid' 'Middle' 'FALSE' 'TRUE' 'Excellent']\n",
            " ['High' 'Old' 'FALSE' 'TRUE' 'Excellent']\n",
            " ['High' 'Old' 'FALSE' 'TRUE' 'Good']\n",
            " ['High' 'Old' 'TRUE' 'FALSE' 'Good']\n",
            " ['Mid' 'Old' 'TRUE' 'FALSE' 'Excellent']\n",
            " ['Low' 'Old' 'FALSE' 'FALSE' 'Fair']]\n",
            "['0' '0' '1' '1' '0' '0' '0' '1' '1' '1' '1' '1' '1' '1' '0']\n"
          ]
        }
      ]
    },
    {
      "cell_type": "markdown",
      "source": [
        "**Preprocessing**"
      ],
      "metadata": {
        "id": "pXdm-UEVxrJL"
      }
    },
    {
      "cell_type": "markdown",
      "source": [
        "`preprocessing.OrdinalEncoder()`=> converts categorial data into nominal or numerical data"
      ],
      "metadata": {
        "id": "EgvJYtTsyDZY"
      }
    },
    {
      "cell_type": "code",
      "source": [
        "enc=preprocessing.OrdinalEncoder()\n",
        "enc.fit(features)\n",
        "features=enc.transform(features)\n",
        "print(features)\n"
      ],
      "metadata": {
        "colab": {
          "base_uri": "https://localhost:8080/"
        },
        "id": "dU_2WZw7xqEx",
        "outputId": "52a0cd10-11a2-4908-9822-23e91f285ce2"
      },
      "execution_count": 6,
      "outputs": [
        {
          "output_type": "stream",
          "name": "stdout",
          "text": [
            "[[1. 2. 0. 0. 1.]\n",
            " [2. 2. 0. 0. 2.]\n",
            " [0. 2. 1. 0. 2.]\n",
            " [2. 2. 1. 1. 1.]\n",
            " [2. 2. 0. 0. 1.]\n",
            " [1. 0. 0. 0. 1.]\n",
            " [1. 0. 0. 0. 2.]\n",
            " [2. 0. 1. 1. 2.]\n",
            " [2. 0. 0. 1. 0.]\n",
            " [2. 0. 0. 1. 0.]\n",
            " [0. 1. 0. 1. 0.]\n",
            " [0. 1. 0. 1. 2.]\n",
            " [0. 1. 1. 0. 2.]\n",
            " [2. 1. 1. 0. 0.]\n",
            " [1. 1. 0. 0. 1.]]\n"
          ]
        }
      ]
    },
    {
      "cell_type": "markdown",
      "source": [
        "**Model**"
      ],
      "metadata": {
        "id": "4XwzfgpqzDt_"
      }
    },
    {
      "cell_type": "code",
      "source": [
        "model = LinearRegression()\n",
        "trained=model.fit(features,target)\n"
      ],
      "metadata": {
        "id": "szun8qK3yuUo"
      },
      "execution_count": 7,
      "outputs": []
    },
    {
      "cell_type": "markdown",
      "source": [
        "**Testing**"
      ],
      "metadata": {
        "id": "eKdmdjhN0vdE"
      }
    },
    {
      "cell_type": "code",
      "source": [
        "#scenario 1\n",
        "question=np.array([['High','Old','FALSE','FALSE',\"Good\"]]) #enc.trabsform -> numerical\n",
        "prediction=trained.predict(enc.transform(question))\n",
        "print(prediction)\n",
        "print('2020-CE-45')"
      ],
      "metadata": {
        "colab": {
          "base_uri": "https://localhost:8080/"
        },
        "id": "e3aUMtQ00uYT",
        "outputId": "073f5058-5549-4f6f-f622-0a0dc743cf61"
      },
      "execution_count": 8,
      "outputs": [
        {
          "output_type": "stream",
          "name": "stdout",
          "text": [
            "[0.20880404]\n",
            "2020-CE-45\n"
          ]
        }
      ]
    },
    {
      "cell_type": "code",
      "source": [
        "#scenario 2\n",
        "\n",
        "question=np.array([['High','Old','TRUE','TRUE',\"Fair\"]]) #enc.trabsform -> numerical\n",
        "prediction=trained.predict(enc.transform(question))\n",
        "print(prediction)\n",
        "print('2020-CE-45')"
      ],
      "metadata": {
        "colab": {
          "base_uri": "https://localhost:8080/"
        },
        "id": "rZGvqQys3oNC",
        "outputId": "05e1ec3c-f920-4cb8-f621-6d963cd4c5c1"
      },
      "execution_count": 9,
      "outputs": [
        {
          "output_type": "stream",
          "name": "stdout",
          "text": [
            "[1.64996738]\n",
            "2020-CE-45\n"
          ]
        }
      ]
    },
    {
      "cell_type": "code",
      "source": [
        "#scenario 3\n",
        "\n",
        "question=np.array([['Low','Middle','FALSE','FALSE',\"Good\"]]) #enc.trabsform -> numerical\n",
        "prediction=trained.predict(enc.transform(question))\n",
        "print(prediction)\n",
        "print('2020-CE-45')"
      ],
      "metadata": {
        "colab": {
          "base_uri": "https://localhost:8080/"
        },
        "id": "l-txvTt83oZv",
        "outputId": "18c1c525-6fb0-4ca3-9fbb-6bcf75c4df7b"
      },
      "execution_count": 10,
      "outputs": [
        {
          "output_type": "stream",
          "name": "stdout",
          "text": [
            "[0.0616008]\n",
            "2020-CE-45\n"
          ]
        }
      ]
    }
  ]
}